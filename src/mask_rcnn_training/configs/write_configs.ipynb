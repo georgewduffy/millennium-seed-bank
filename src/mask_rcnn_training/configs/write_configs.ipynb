{
 "cells": [
  {
   "cell_type": "code",
   "execution_count": 5,
   "id": "3a85bd72-84d2-430b-9b38-3598568d1e1a",
   "metadata": {},
   "outputs": [],
   "source": [
    "configs_path = '../configs/training_configs.json'\n",
    "params_path = '../configs/training_hyper_params.json'\n",
    "\n",
    "configs = dict([\n",
    "    ('train_images_path', '/vol/bitbucket/cdr23/dataset_final/'),\n",
    "    ('train_annotations_name','/vol/bitbucket/cdr23/dataset_final/synth_train.json'),\n",
    "    ('val_images_path', '/vol/bitbucket/cdr23/dataset_final/'),\n",
    "    ('val_annotations_name','/vol/bitbucket/cdr23/dataset_final/synth_val.json'),\n",
    "    ('model_path', '/vol/bitbucket/or623/seed_models/rcnn_final.pt'), #'models/long_run_mask_rcnn.pt'\n",
    "    ('model_folder', '/vol/bitbucket/or623/seed_models/final_models'),\n",
    "    ('map_plot_path', \"src/mask_rcnn_training/graphs/train_vs_val__post1.png\"),\n",
    "    ('vis_plot_path', \"src/mask_rcnn_training/graphs/visualisations_post1_epoch\"),\n",
    "    \n",
    "    ('inference_configs_save_path', 'src/mask_rcnn_training/configs/fixed_inference_configs.json'),\n",
    "    ('hyper_params_path', 'src/mask_rcnn_training/configs/training_hyper_params.json'),\n",
    "    \n",
    "    ('train_print_every', 500), # how often training progress\n",
    "    ('log_every', 100), # how often eval metrics are calculated\n",
    "    ('val_print_every', 50),\n",
    "    \n",
    "    ('num_classes', 5),\n",
    "    ('class_order', ['Seed','Interior','Endosperm','Void','Infestation']),\n",
    "    ('use_gpu', True),\n",
    "    ('save_progress', True),\n",
    "    ('load_from_checkpoint', False),\n",
    "    ('metric_max_detections', None),\n",
    "])\n",
    "\n",
    "hyper_params = dict([ # Performance Effects:\n",
    "    ('train_batch_size', 5), # memory, speed\n",
    "    ('val_batch_size', 5), # memory, speed\n",
    "    ('step_every', 10), # memory, speed\n",
    "    ('num_epochs', 10), # speed, accuracy\n",
    "    ('learning_rate', 1e-4), # accuracy - optimise this\n",
    "    ('max_detections', 200), # accuracy - optimise this if you really want to\n",
    "    ('binary_threshold', 0.25), # accuracy - optimise this independently of training - it does not affect model training so can be looped over predictions afterwards\n",
    "    ('pre-process', True),\n",
    "    ('post-process', True),\n",
    "])\n",
    "\n",
    "import json\n",
    "with open(configs_path,'w') as file:\n",
    "    json.dump(configs, file)\n",
    "\n",
    "with open(params_path,'w') as file:\n",
    "    json.dump(hyper_params, file)"
   ]
  },
  {
   "cell_type": "code",
   "execution_count": 11,
   "id": "5196c822-830f-4a42-a15c-ae427456ed06",
   "metadata": {},
   "outputs": [],
   "source": [
    "configs_path = '../configs/grid_search_training_configs.json'\n",
    "params_path = '../configs/grid_search_training_hyper_params.json'\n",
    "\n",
    "configs = dict([\n",
    "    ('train_images_path', '/vol/bitbucket/cdr23/temp_new/'),\n",
    "    ('train_annotations_name','/vol/bitbucket/cdr23/temp_new/synth_train.json'),\n",
    "    ('val_images_path', '/vol/bitbucket/cdr23/temp_new/'),\n",
    "    ('val_annotations_name','/vol/bitbucket/cdr23/temp_new/synth_val.json'),\n",
    "    ('model_path', 'models/long_run_mask_rcnn.pt'),\n",
    "    \n",
    "    ('map_plot_path', 'src/mask_rcnn_training/outputs/train_vs_val.png'),\n",
    "    ('vis_plot_path', 'src/mask_rcnn_training/outputs/outputs_epoch'),\n",
    "    \n",
    "    ('inference_configs_save_path', 'src/mask_rcnn_training/configs/fixed_inference_configs.json'),\n",
    "    ('hyper_params_path', 'src/mask_rcnn_training/configs/grid_search_training_hyper_params.json'),\n",
    "    \n",
    "    ('train_print_every', 1000), # how often training progress\n",
    "    ('log_every', 250), # how often eval metrics are calculated\n",
    "    ('val_print_every', 50),\n",
    "    \n",
    "    ('num_classes', 7),\n",
    "    ('class_order', ['Pod','Seed','Interior','Endosperm','Embryo','Void','Infestation']),\n",
    "    ('use_gpu', True),\n",
    "    ('save_progress', True),\n",
    "    ('load_from_checkpoint', True),\n",
    "    ('metric_max_detections', None),\n",
    "])\n",
    "\n",
    "hyper_params = dict([ # Performance Effects:\n",
    "    ('train_batch_size', 4), # memory, speed\n",
    "    ('val_batch_size', 4), # memory, speed\n",
    "    ('step_every', 10), # memory, speed\n",
    "    ('num_epochs', 10), # speed, accuracy\n",
    "    ('learning_rate', 1e-4), # accuracy - optimise this\n",
    "    ('max_detections', 200), # accuracy - optimise this if you really want to\n",
    "    ('binary_threshold', 0.25), # accuracy - optimise this independently of training - it does not affect model training so can be looped over predictions afterwards\n",
    "    ('pre-process', True),\n",
    "    ('post-process', True),\n",
    "])\n",
    "\n",
    "import json\n",
    "with open(configs_path,'w') as file:\n",
    "    json.dump(configs, file)\n",
    "\n",
    "with open(params_path,'w') as file:\n",
    "    json.dump(hyper_params, file)"
   ]
  },
  {
   "cell_type": "code",
   "execution_count": 1,
   "id": "b9b9a680-0c4e-47cb-958f-d203b6dd90da",
   "metadata": {},
   "outputs": [],
   "source": [
    "inference_configs = dict([\n",
    "    ('use_gpu', False),\n",
    "    ('fixed_inference_configs_path', 'src/mask_rcnn_training/configs/fixed_inference_configs.json'),\n",
    "])\n",
    "\n",
    "import json\n",
    "with open('../configs/inference_configs.json','w') as file:\n",
    "    json.dump(inference_configs, file)"
   ]
  },
  {
   "cell_type": "code",
   "execution_count": 1,
   "id": "120deb26-b023-4eb6-ad80-4175474aa7fe",
   "metadata": {},
   "outputs": [
    {
     "name": "stdout",
     "output_type": "stream",
     "text": [
      "{'id2label': {'3': 1, '2': 2, '0': 3, '4': 4, '1': 5}, 'label2id': {'1': 3, '2': 2, '3': 0, '4': 4, '5': 1}, 'name2id': {'Endosperm': 0, 'Infestation': 1, 'Interior': 2, 'Seed': 3, 'Void': 4}, 'id2name': {'0': 'Endosperm', '1': 'Infestation', '2': 'Interior', '3': 'Seed', '4': 'Void'}, 'label2name': {'1': 'Seed', '2': 'Interior', '3': 'Endosperm', '4': 'Void', '5': 'Infestation'}, 'name2label': {'Seed': 1, 'Interior': 2, 'Endosperm': 3, 'Void': 4, 'Infestation': 5}, 'label_order': [1, 2, 3, 4, 5], 'hyper_params': {'train_batch_size': 5, 'val_batch_size': 5, 'step_every': 10, 'num_epochs': 10, 'learning_rate': 0.0001, 'max_detections': 200, 'binary_threshold': 0.25, 'pre-process': True, 'post-process': True}, 'num_classes': 5, 'model_path': '/vol/bitbucket/or623/seed_models/final_models/epoch0.pt', 'class_order': ['Seed', 'Interior', 'Endosperm', 'Void', 'Infestation']}\n"
     ]
    }
   ],
   "source": [
    "import json \n",
    "with open('fixed_inference_configs.json', 'r') as file:\n",
    "    old = json.load(file)\n",
    "print(old)"
   ]
  },
  {
   "cell_type": "code",
   "execution_count": 2,
   "id": "3f64e3f9-33c4-49c6-924a-0b2be9af5cb2",
   "metadata": {},
   "outputs": [],
   "source": [
    "old['model_path'] = '/vol/bitbucket/or623/seed_models/final_models/epoch18.pt'\n",
    "import json \n",
    "with open('fixed_inference_configs.json', 'w') as file:\n",
    "    json.dump(old, file)\n"
   ]
  },
  {
   "cell_type": "code",
   "execution_count": null,
   "id": "8bfca48d-9c76-470d-8c3e-28ab994ce1c0",
   "metadata": {},
   "outputs": [],
   "source": []
  }
 ],
 "metadata": {
  "kernelspec": {
   "display_name": "Python 3 (ipykernel)",
   "language": "python",
   "name": "python3"
  },
  "language_info": {
   "codemirror_mode": {
    "name": "ipython",
    "version": 3
   },
   "file_extension": ".py",
   "mimetype": "text/x-python",
   "name": "python",
   "nbconvert_exporter": "python",
   "pygments_lexer": "ipython3",
   "version": "3.10.12"
  }
 },
 "nbformat": 4,
 "nbformat_minor": 5
}

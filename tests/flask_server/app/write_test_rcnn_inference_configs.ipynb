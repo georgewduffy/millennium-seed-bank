{
 "cells": [
  {
   "cell_type": "code",
   "execution_count": 16,
   "id": "f101d29d-82e0-4cb8-b0e7-ce436cc3402f",
   "metadata": {},
   "outputs": [],
   "source": [
    "import json\n",
    "configs = dict([\n",
    "    ('val_annotations_name', \"tests/flask_server/app/test_result.json\"),\n",
    "    ('num_classes', 4),\n",
    "    ('model_path', None),\n",
    "    ('class_order', ['Seed','Interior','Endosperm','Internal Void']),\n",
    "    ('use_gpu', False),\n",
    "    ('binary_threshold', 0),\n",
    "])\n",
    "\n",
    "with open('test_rcnn_inference_configs.json','w') as file:\n",
    "    json.dump(configs, file)"
   ]
  },
  {
   "cell_type": "code",
   "execution_count": null,
   "id": "633e5d8c-2e72-4233-9e22-5b12e84ad294",
   "metadata": {},
   "outputs": [],
   "source": []
  }
 ],
 "metadata": {
  "kernelspec": {
   "display_name": "Python 3 (ipykernel)",
   "language": "python",
   "name": "python3"
  },
  "language_info": {
   "codemirror_mode": {
    "name": "ipython",
    "version": 3
   },
   "file_extension": ".py",
   "mimetype": "text/x-python",
   "name": "python",
   "nbconvert_exporter": "python",
   "pygments_lexer": "ipython3",
   "version": "3.10.12"
  }
 },
 "nbformat": 4,
 "nbformat_minor": 5
}

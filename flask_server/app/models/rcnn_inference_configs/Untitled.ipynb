{
 "cells": [
  {
   "cell_type": "code",
   "execution_count": 12,
   "id": "bfb83cf0-f07b-41c8-b018-5283b7ca919b",
   "metadata": {},
   "outputs": [],
   "source": [
    "import json\n",
    "with open('fixed_inference_configs.json','r') as file:\n",
    "    old = json.load(file)"
   ]
  },
  {
   "cell_type": "code",
   "execution_count": 13,
   "id": "1b23aefa-0ff2-4e95-aafd-8ee8688cc860",
   "metadata": {},
   "outputs": [
    {
     "name": "stdout",
     "output_type": "stream",
     "text": [
      "{'id2label': {'3': 1, '2': 2, '0': 3, '4': 4, '1': 5}, 'label2id': {'1': 3, '2': 2, '3': 0, '4': 4, '5': 1}, 'name2id': {'Endosperm': 0, 'Infestation': 1, 'Interior': 2, 'Seed': 3, 'Void': 4}, 'id2name': {'0': 'Endosperm', '1': 'Infestation', '2': 'Interior', '3': 'Seed', '4': 'Void'}, 'label2name': {'1': 'Seed', '2': 'Interior', '3': 'Endosperm', '4': 'Void', '5': 'Infestation'}, 'name2label': {'Seed': 1, 'Interior': 2, 'Endosperm': 3, 'Void': 4, 'Infestation': 5}, 'label_order': [1, 2, 3, 4, 5], 'hyper_params': {'train_batch_size': 5, 'val_batch_size': 5, 'step_every': 10, 'num_epochs': 10, 'learning_rate': 0.0001, 'max_detections': 200, 'binary_threshold': 0.5, 'pre-process': True, 'post-process': False, 'model_path': 'app/models/final_model_weights/rcnn.pt'}, 'num_classes': 5, 'model_path': 'app/models/final_model_weights/rcnn.pt', 'class_order': ['Seed', 'Interior', 'Endosperm', 'Void', 'Infestation']}\n"
     ]
    }
   ],
   "source": [
    "print(old)"
   ]
  },
  {
   "cell_type": "code",
   "execution_count": 14,
   "id": "7d5f5564-0b6a-4ee1-89bf-4c0694987856",
   "metadata": {},
   "outputs": [],
   "source": [
    "old['hyper_params']['model_path'] = 'app/models/final_model_weights/rcnn.pt'\n",
    "old['model_path'] = 'app/models/final_model_weights/rcnn.pt'\n",
    "old['hyper_params']['post-process'] = False\n",
    "#old['hyper_params']['post-process'] = False"
   ]
  },
  {
   "cell_type": "code",
   "execution_count": 15,
   "id": "a6a509dd-0e3a-4e3c-b3cc-df86ec200ecc",
   "metadata": {},
   "outputs": [],
   "source": [
    "import json\n",
    "with open('fixed_inference_configs.json','w') as file:\n",
    "    json.dump(old, file)"
   ]
  },
  {
   "cell_type": "code",
   "execution_count": null,
   "id": "301354ea-54dc-4fc2-a421-ec4b10103bcc",
   "metadata": {},
   "outputs": [],
   "source": []
  }
 ],
 "metadata": {
  "kernelspec": {
   "display_name": "Python 3 (ipykernel)",
   "language": "python",
   "name": "python3"
  },
  "language_info": {
   "codemirror_mode": {
    "name": "ipython",
    "version": 3
   },
   "file_extension": ".py",
   "mimetype": "text/x-python",
   "name": "python",
   "nbconvert_exporter": "python",
   "pygments_lexer": "ipython3",
   "version": "3.10.12"
  }
 },
 "nbformat": 4,
 "nbformat_minor": 5
}
